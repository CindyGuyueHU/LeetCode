{
 "cells": [
  {
   "cell_type": "code",
   "execution_count": 108,
   "metadata": {
    "collapsed": true
   },
   "outputs": [],
   "source": [
    "board = [['X','O','X','O','X','O'],['O','X','O','X','O','X'],['X','O','X','O','X','O'],['O','X','O','X','O','X']]"
   ]
  },
  {
   "cell_type": "code",
   "execution_count": 110,
   "metadata": {
    "collapsed": false
   },
   "outputs": [
    {
     "name": "stdout",
     "output_type": "stream",
     "text": [
      "[['X', 'O', 'X', 'O', 'X', 'O'], ['O', 'X', 'O', 'X', 'O', 'X'], ['X', 'O', 'X', 'O', 'X', 'O'], ['O', 'X', 'O', 'X', 'O', 'X']]\n",
      "6 4\n"
     ]
    }
   ],
   "source": [
    "def solve(self, board):\n",
    "    stack = []\n",
    "    if len(board) != 0:\n",
    "        n = len(board)\n",
    "        m = len(board[0])\n",
    "        print(m,n)\n",
    "        for i in range (0, n):\n",
    "            if board[i][0] == 'O':\n",
    "                stack += (i,0)\n",
    "            if board[i][m-1] == 'O':\n",
    "                stack += (i,m-1)\n",
    "        for j in range (0, m):\n",
    "            if board[0][j] == 'O':\n",
    "                stack += (0,j)\n",
    "            if board[n-1][j] == 'O':\n",
    "                stack += (n-1,j)\n",
    "\n",
    "        while stack:\n",
    "            j = stack.pop()\n",
    "            i = stack.pop()\n",
    "        \n",
    "            \n",
    "            if 0 <= i < n and 0 <=j < m and board[i][j] == 'O':\n",
    "                board[i][j] = '1'\n",
    "                stack += [i-1,j]\n",
    "                stack += [i+1,j]\n",
    "                stack += [i,j-1]\n",
    "                stack += [i,j+1]\n",
    "                \n",
    "                \n",
    "        for i in range(0, n):\n",
    "            for j in range (0, m):\n",
    "                if board[i][j] == 'O':\n",
    "                    board[i][j] = 'X'\n",
    "                if board[i][j] == '1':\n",
    "                    board[i][j] = 'O'\n",
    "        #print(board)\n",
    "    return\n",
    "\n",
    "A = solve(0, board)"
   ]
  },
  {
   "cell_type": "code",
   "execution_count": 116,
   "metadata": {
    "collapsed": false
   },
   "outputs": [
    {
     "name": "stdout",
     "output_type": "stream",
     "text": [
      "[1, 2, 3, 4, 5, 6, 10, 11]\n",
      "11\n"
     ]
    }
   ],
   "source": [
    "a = [1,2,3,4,5,6]\n",
    "a += (10,11)\n",
    "print(a)\n",
    "b = a.pop()\n",
    "print(b)"
   ]
  },
  {
   "cell_type": "code",
   "execution_count": null,
   "metadata": {
    "collapsed": true
   },
   "outputs": [],
   "source": []
  }
 ],
 "metadata": {
  "kernelspec": {
   "display_name": "Python 3",
   "language": "python",
   "name": "python3"
  },
  "language_info": {
   "codemirror_mode": {
    "name": "ipython",
    "version": 3
   },
   "file_extension": ".py",
   "mimetype": "text/x-python",
   "name": "python",
   "nbconvert_exporter": "python",
   "pygments_lexer": "ipython3",
   "version": "3.5.1"
  }
 },
 "nbformat": 4,
 "nbformat_minor": 0
}
