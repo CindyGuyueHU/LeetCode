{
 "cells": [
  {
   "cell_type": "code",
   "execution_count": 1,
   "metadata": {
    "collapsed": false
   },
   "outputs": [
    {
     "name": "stdout",
     "output_type": "stream",
     "text": [
      "362880\n"
     ]
    }
   ],
   "source": [
    "print(1*2*3*4*5*6*7*8*9)"
   ]
  },
  {
   "cell_type": "code",
   "execution_count": 36,
   "metadata": {
    "collapsed": false
   },
   "outputs": [
    {
     "name": "stdout",
     "output_type": "stream",
     "text": [
      "2 2 0\n",
      "1 0 0\n",
      "312\n"
     ]
    }
   ],
   "source": [
    "n = 3\n",
    "k = 5\n",
    "candidate = []\n",
    "factorial = []\n",
    "prod = 1\n",
    "k = k - 1\n",
    "for i in range (1, n+1):\n",
    "    candidate.append(i)\n",
    "    prod = prod * i\n",
    "    factorial.append(prod)\n",
    "factorial.pop()\n",
    "s = \"\"\n",
    "for i in range (1, n):\n",
    "    a = factorial.pop()\n",
    "    b = k // a\n",
    "    k = k - b * a\n",
    "    print(a, b, c)\n",
    "    s = s + str(candidate[b])\n",
    "    del candidate[b]\n",
    "    \n",
    "if len(candidate) != 0:\n",
    "    s = s + str(candidate[0])\n",
    "print (s)"
   ]
  },
  {
   "cell_type": "code",
   "execution_count": 23,
   "metadata": {
    "collapsed": false
   },
   "outputs": [
    {
     "name": "stdout",
     "output_type": "stream",
     "text": [
      "1\n",
      "[1, 3, 2]\n"
     ]
    }
   ],
   "source": [
    "print(4//3)\n",
    "l = [1,2,3,2]\n",
    "del l[1]\n",
    "print(l)"
   ]
  },
  {
   "cell_type": "code",
   "execution_count": null,
   "metadata": {
    "collapsed": true
   },
   "outputs": [],
   "source": []
  }
 ],
 "metadata": {
  "kernelspec": {
   "display_name": "Python 3",
   "language": "python",
   "name": "python3"
  },
  "language_info": {
   "codemirror_mode": {
    "name": "ipython",
    "version": 3
   },
   "file_extension": ".py",
   "mimetype": "text/x-python",
   "name": "python",
   "nbconvert_exporter": "python",
   "pygments_lexer": "ipython3",
   "version": "3.5.1"
  }
 },
 "nbformat": 4,
 "nbformat_minor": 0
}
